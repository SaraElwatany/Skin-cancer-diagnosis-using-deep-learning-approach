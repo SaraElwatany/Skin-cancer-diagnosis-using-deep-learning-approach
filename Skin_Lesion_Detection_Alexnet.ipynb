{
 "cells": [
  {
   "cell_type": "markdown",
   "metadata": {},
   "source": [
    "### Import Libraries"
   ]
  },
  {
   "cell_type": "code",
   "execution_count": 1,
   "metadata": {},
   "outputs": [
    {
     "data": {
      "text/plain": [
       "<contextlib.ExitStack at 0x22045696110>"
      ]
     },
     "execution_count": 1,
     "metadata": {},
     "output_type": "execute_result"
    }
   ],
   "source": [
    "# Import Libraries\n",
    "import os\n",
    "import time\n",
    "import torch\n",
    "import numpy as np\n",
    "import torch.nn as nn\n",
    "from torch import tensor\n",
    "import torch.optim as optim\n",
    "import matplotlib.pyplot as plt\n",
    "import torch.nn.functional as F\n",
    "import torchvision.models as models\n",
    "import torch.backends.cudnn as cudnn\n",
    "from torch.optim import lr_scheduler\n",
    "from tempfile import TemporaryDirectory\n",
    "from sklearn.metrics import roc_curve, auc\n",
    "import torchvision.transforms as transforms\n",
    "from torchvision.datasets import ImageFolder\n",
    "from torchmetrics.classification import BinaryROC\n",
    "\n",
    "\n",
    "\n",
    "\n",
    "cudnn.benchmark = True\n",
    "plt.ion()   # interactive mode"
   ]
  },
  {
   "cell_type": "markdown",
   "metadata": {},
   "source": [
    "### Main path to the whole dataset"
   ]
  },
  {
   "cell_type": "code",
   "execution_count": 2,
   "metadata": {},
   "outputs": [],
   "source": [
    "main_directory = 'D:/CAD/skin_lesions'      # Set the path to the root directory of your dataset"
   ]
  },
  {
   "cell_type": "markdown",
   "metadata": {},
   "source": [
    "### Apply data transformations and split the dataset to training, validation, test sets"
   ]
  },
  {
   "cell_type": "code",
   "execution_count": 3,
   "metadata": {},
   "outputs": [
    {
     "name": "stdout",
     "output_type": "stream",
     "text": [
      "['benign', 'malignant']\n"
     ]
    }
   ],
   "source": [
    "# Data Normalization\n",
    "data_transforms = {\n",
    "\n",
    "    'train': transforms.Compose([\n",
    "        transforms.Resize((224,224)),       # Resize each image to (224 x 224) pixels\n",
    "        transforms.ToTensor(),\n",
    "        transforms.Normalize([0.485, 0.456, 0.406], [0.229, 0.224, 0.225])\n",
    "    ]),\n",
    "\n",
    "    'val': transforms.Compose([\n",
    "        transforms.Resize((224,224)),       # Resize each image to (224 x 224) pixels\n",
    "        transforms.ToTensor(),\n",
    "        transforms.Normalize([0.485, 0.456, 0.406], [0.229, 0.224, 0.225])\n",
    "    ]),\n",
    "\n",
    "    'test': transforms.Compose([\n",
    "        transforms.Resize((224,224)),       # Resize each image to (224 x 224) pixels\n",
    "        transforms.ToTensor(),\n",
    "        transforms.Normalize([0.485, 0.456, 0.406], [0.229, 0.224, 0.225])\n",
    "    ]),\n",
    "}\n",
    "\n",
    "\n",
    "\n",
    "image_datasets = {x: ImageFolder(os.path.join(main_directory, x), data_transforms[x]) for x in ['train', 'val', 'test']}\n",
    "\n",
    "\n",
    "# Create Data Loaders              \n",
    "dataloaders = {x: torch.utils.data.DataLoader(image_datasets[x], batch_size = 4, shuffle = True, num_workers = 4) for x in ['train', 'val','test']}\n",
    "                                             \n",
    "# Get Dataset size            \n",
    "dataset_sizes = {x: len(image_datasets[x]) for x in ['train' , 'val','test']}\n",
    "# Get The Categories\n",
    "class_names = image_datasets['train'].classes\n",
    "\n",
    "\n",
    "# Print the class labels\n",
    "print(class_names)"
   ]
  },
  {
   "cell_type": "code",
   "execution_count": 4,
   "metadata": {},
   "outputs": [],
   "source": [
    "# Move the model to the appropriate device (CPU or GPU)\n",
    "device = torch.device('cuda' if torch.cuda.is_available() else 'cpu')"
   ]
  },
  {
   "cell_type": "markdown",
   "metadata": {},
   "source": [
    "### Function to train the model on the new dataset and finetune the new model using stochastic gradient descent"
   ]
  },
  {
   "cell_type": "code",
   "execution_count": 5,
   "metadata": {},
   "outputs": [],
   "source": [
    "def train_model(model, criterion, optimizer, scheduler, num_epochs= 5):\n",
    "\n",
    "\n",
    "    since = time.time() # Time at the beginning of training\n",
    "\n",
    "\n",
    "    # Create a temporary directory to save training checkpoints\n",
    "    with TemporaryDirectory() as tempdir:\n",
    "\n",
    "\n",
    "        best_model_params_path = os.path.join(tempdir, 'best_model_params.pt')\n",
    "        torch.save(model.state_dict(), best_model_params_path)\n",
    "\n",
    "        # Save the best accuracy for later\n",
    "        best_acc = 0.0\n",
    "\n",
    "        # For each iteration/epoch perform training & validation phase\n",
    "        for epoch in range(num_epochs):\n",
    "\n",
    "\n",
    "            print(f'Epoch {epoch}/{num_epochs - 1}')\n",
    "            print('-' * 10)\n",
    "\n",
    "            # Each epoch has a training and validation phase\n",
    "            for phase in ['train', 'val']:\n",
    "\n",
    "                if phase == 'train':\n",
    "                    model.train()  # Set model to training mode\n",
    "                else:\n",
    "                    model.eval()   # Set model to evaluate mode\n",
    "\n",
    "\n",
    "                running_loss = 0.0      # Save the loss\n",
    "                running_corrects = 0        # Correctly classified labels (total trues)\n",
    "\n",
    "\n",
    "                # Iterate over data\n",
    "                for inputs, labels in dataloaders[phase]:\n",
    "\n",
    "                    inputs = inputs.to(device)\n",
    "                    labels = labels.to(device)\n",
    "\n",
    "                    # zero the parameter gradients\n",
    "                    optimizer.zero_grad()\n",
    "\n",
    "                    # Forward, track history if only in train\n",
    "                    with torch.set_grad_enabled(phase == 'train'):\n",
    "\n",
    "                        outputs = model(inputs)\n",
    "                        max_prob, preds = torch.max(outputs, 1)\n",
    "                        loss = criterion(outputs, labels)\n",
    "\n",
    "                        # Backward + optimize only if in training phase\n",
    "                        if phase == 'train':        \n",
    "                            loss.backward()\n",
    "                            optimizer.step()\n",
    "\n",
    "\n",
    "                    # Statistics\n",
    "                    running_loss += loss.item() * inputs.size(0)\n",
    "                    running_corrects += torch.sum(preds == labels.data) \n",
    "                    \n",
    "                            \n",
    "                                   \n",
    "                if phase == 'train':\n",
    "                    scheduler.step()\n",
    "\n",
    "                \n",
    "                epoch_acc = running_corrects.double() / dataset_sizes[phase]\n",
    "                #epoch_loss = running_loss / dataset_sizes[phase]\n",
    "                #print(f'{phase} Loss: {epoch_loss:.4f}  Acc: {epoch_acc:.4f}')\n",
    "\n",
    "                # deep copy the model\n",
    "                if phase == 'val' and epoch_acc > best_acc:\n",
    "                    best_acc = epoch_acc\n",
    "                    torch.save(model.state_dict(), best_model_params_path)\n",
    "\n",
    "            print()\n",
    "\n",
    "        time_elapsed = time.time() - since\n",
    "        print(f'Training complete in {time_elapsed // 60:.0f}m {time_elapsed % 60:.0f}s')\n",
    "        print(f'Best val Acc: {best_acc:4f}')\n",
    "\n",
    "        # load best model weights\n",
    "        model.load_state_dict(torch.load(best_model_params_path))\n",
    "    \n",
    "    torch.save(model, 'D:/CAD/skin_lesion_alexnet.pkl')\n",
    "\n",
    "    return model"
   ]
  },
  {
   "cell_type": "markdown",
   "metadata": {},
   "source": [
    "### Modify the last layer of the pretrained model (transfer learning)"
   ]
  },
  {
   "cell_type": "code",
   "execution_count": 6,
   "metadata": {},
   "outputs": [],
   "source": [
    "def transfer_learning(classes=2):\n",
    "    alexnet_model = models.alexnet(pretrained=True)               # Use Alexnet without the last layer\n",
    "    alexnet_model.classifier[6] = nn.Linear(4096, classes)             # Customize the last NN layer (consists of 4096 nodes)\n",
    "    return alexnet_model"
   ]
  },
  {
   "cell_type": "markdown",
   "metadata": {},
   "source": [
    "### Function to compute the evaluation metrics"
   ]
  },
  {
   "cell_type": "code",
   "execution_count": 7,
   "metadata": {},
   "outputs": [],
   "source": [
    "def evaluation_metrics(true_positive, true_negative, false_positive, false_negative):\n",
    "    \n",
    "    recall = (true_positive) / (true_positive + false_negative)\n",
    "    f1_score = (2 * true_positive) / ((2 * true_positive) + false_positive + false_negative)\n",
    "    precision = (true_positive) / (true_positive + false_positive)\n",
    "    specificity = (true_negative) / (true_negative + false_positive)\n",
    "    informedness = recall + specificity - 1\n",
    "    accuracy = (true_positive + true_negative) / (true_positive + true_negative + false_positive + false_negative)\n",
    "\n",
    "    print(f'Estimated recall: {recall}')\n",
    "    print(f'Estimated f1_score: {f1_score}')\n",
    "    print(f'Estimated Precision: {precision}')\n",
    "    print(f'Estimated Specificity: {specificity}')\n",
    "    print(f'Estimated Informedness: {informedness}')\n",
    "    print(f'Estimated Accuracy: {accuracy}')"
   ]
  },
  {
   "cell_type": "markdown",
   "metadata": {},
   "source": [
    "### Function to plot the ROC Curve"
   ]
  },
  {
   "cell_type": "code",
   "execution_count": 13,
   "metadata": {},
   "outputs": [],
   "source": [
    "def plot_roc(pred_prob, true_labels):\n",
    "\n",
    "    fpr_array = []\n",
    "    tpr_array = []\n",
    "    thresholds = np.linspace(0, 1, 1000)\n",
    "\n",
    "\n",
    "    # Get predictions against each threshold per each class\n",
    "    for threshold in thresholds:\n",
    "\n",
    "        tp = sum([1 for prob, true_lbl in zip(pred_prob, true_labels) if (prob >= threshold) and (class_names[true_lbl] == 'malignant')])\n",
    "        fp = sum([1 for prob, true_lbl in zip(pred_prob, true_labels) if (prob >= threshold) and (class_names[true_lbl] == 'benign')])\n",
    "        tn = sum([1 for prob, true_lbl in zip(pred_prob, true_labels) if (prob < threshold) and (class_names[true_lbl] == 'benign')])\n",
    "        fn = sum([1 for prob, true_lbl in zip(pred_prob, true_labels) if (prob < threshold) and (class_names[true_lbl] == 'malignant')])\n",
    "\n",
    "\n",
    "        # We find the True positive rate and False positive rate based on the given threshold\n",
    "        tpr = tp / (tp + fn)\n",
    "        fpr = fp / (tn + fp)\n",
    "        \n",
    "        fpr_array.append(fpr)\n",
    "        tpr_array.append(tpr)\n",
    "\n",
    "\n",
    "    # Use Trapezoidal rule to calculate the area under the curve and approximating the intergral\n",
    "    auc = np.trapz(np.array(fpr_array),np.array(tpr_array)) + 1\n",
    "\n",
    "    plt.plot(fpr_array, tpr_array, color='darkorange', label='ROC curve (area = %0.2f)' % auc)\n",
    "    plt.plot([0, 1], [0, 1], color='navy', lw=2, linestyle='--')\n",
    "\n",
    "    plt.xlim([0.0, 1.0])\n",
    "    plt.ylim([0.0, 1.0])\n",
    "\n",
    "    plt.legend(loc=\"lower right\")\n",
    "    plt.ylabel('True Positive Rate (sensitivity)')\n",
    "    plt.xlabel('False Positive Rate (1-specificity)')\n",
    "    plt.title('Receiver Operating Characteristic for Binary class')\n",
    "    plt.show()"
   ]
  },
  {
   "cell_type": "markdown",
   "metadata": {},
   "source": [
    "### Function ....."
   ]
  },
  {
   "cell_type": "code",
   "execution_count": 9,
   "metadata": {},
   "outputs": [],
   "source": [
    "def built_in_roc(metric = BinaryROC(), max_prob = [], labels_batch = [], thresholds = 100, initialize = False, plot = False):\n",
    "\n",
    "\n",
    "    if initialize:\n",
    "        # Calculate the ROC curve and AUC score\n",
    "        metric = BinaryROC(thresholds = thresholds)\n",
    "        return metric\n",
    "        \n",
    "    \n",
    "    if plot == False:\n",
    "        # Update the metric to compute the true positive and the false positive rates\n",
    "        metric.update(max_prob, labels_batch)\n",
    "        return metric\n",
    "\n",
    "    elif plot == True:\n",
    "        fig, ax = metric.plot(score=True)\n",
    "        # Add a line with an angle of 45 degrees\n",
    "        ax.plot(np.array([0, 1]), np.array([0, 1]), 'r-')\n",
    "        # Set the aspect ratio of the plot to be equal\n",
    "        ax.set_aspect('equal')\n",
    "        # Display the plot\n",
    "        plt.show()"
   ]
  },
  {
   "cell_type": "markdown",
   "metadata": {},
   "source": [
    "### Test the model on the test dataset"
   ]
  },
  {
   "cell_type": "code",
   "execution_count": 10,
   "metadata": {},
   "outputs": [],
   "source": [
    "def test_model(model):\n",
    "\n",
    "\n",
    "    tp, tn, fp, fn = 0, 0, 0, 0          # true positive , true negative, false positive , false negative variables\n",
    "    \n",
    "    preds_array = []\n",
    "    labels_array = []\n",
    "    #metric = built_in_roc(thresholds = 100, initialize = True)\n",
    "\n",
    "\n",
    "\n",
    "    with torch.no_grad():\n",
    "\n",
    "        for inputs, labels_batch in dataloaders['test']:\n",
    "            \n",
    "            outputs = model(inputs)\n",
    "            max_prob, preds = torch.max(outputs, 1)            \n",
    "            standardized_probabilities = F.softmax(max_prob)        # Apply softmax to the output\n",
    "            preds_array.extend(standardized_probabilities)\n",
    "            labels_array.extend(labels_batch.data)\n",
    "            #metric = built_in_roc(metric = metric, max_prob = max_prob, labels_batch = labels_batch)\n",
    "\n",
    "\n",
    "            # Evaluate the model on the dataset\n",
    "            tp += sum(1 for pred, true in zip(preds, labels_batch.data) if class_names[pred] == 'malignant' and class_names[true] == 'malignant')\n",
    "            tn += sum(1 for pred, true in zip(preds, labels_batch.data) if class_names[pred] != 'malignant' and class_names[true] != 'malignant')\n",
    "            fp += sum(1 for pred, true in zip(preds, labels_batch.data) if class_names[pred] == 'malignant' and class_names[true] != 'malignant')\n",
    "            fn += sum(1 for pred, true in zip(preds, labels_batch.data) if class_names[pred] != 'malignant' and class_names[true] == 'malignant')\n",
    "    \n",
    "\n",
    "    evaluation_metrics(tp, tn, fp, fn)\n",
    "    plot_roc(preds_array, labels_array)\n",
    "    #built_in_roc(metric = metric, plot = True)"
   ]
  },
  {
   "cell_type": "code",
   "execution_count": 11,
   "metadata": {},
   "outputs": [
    {
     "name": "stderr",
     "output_type": "stream",
     "text": [
      "d:\\IDEs\\python\\lib\\site-packages\\torchvision\\models\\_utils.py:208: UserWarning: The parameter 'pretrained' is deprecated since 0.13 and may be removed in the future, please use 'weights' instead.\n",
      "  warnings.warn(\n",
      "d:\\IDEs\\python\\lib\\site-packages\\torchvision\\models\\_utils.py:223: UserWarning: Arguments other than a weight enum or `None` for 'weights' are deprecated since 0.13 and may be removed in the future. The current behavior is equivalent to passing `weights=AlexNet_Weights.IMAGENET1K_V1`. You can also use `weights=AlexNet_Weights.DEFAULT` to get the most up-to-date weights.\n",
      "  warnings.warn(msg)\n"
     ]
    },
    {
     "name": "stdout",
     "output_type": "stream",
     "text": [
      "Epoch 0/39\n",
      "----------\n",
      "\n",
      "Epoch 1/39\n",
      "----------\n",
      "\n",
      "Epoch 2/39\n",
      "----------\n",
      "\n",
      "Epoch 3/39\n",
      "----------\n",
      "\n",
      "Epoch 4/39\n",
      "----------\n",
      "\n",
      "Epoch 5/39\n",
      "----------\n",
      "\n",
      "Epoch 6/39\n",
      "----------\n",
      "\n",
      "Epoch 7/39\n",
      "----------\n",
      "\n",
      "Epoch 8/39\n",
      "----------\n",
      "\n",
      "Epoch 9/39\n",
      "----------\n",
      "\n",
      "Epoch 10/39\n",
      "----------\n",
      "\n",
      "Epoch 11/39\n",
      "----------\n",
      "\n",
      "Epoch 12/39\n",
      "----------\n",
      "\n",
      "Epoch 13/39\n",
      "----------\n",
      "\n",
      "Epoch 14/39\n",
      "----------\n",
      "\n",
      "Epoch 15/39\n",
      "----------\n",
      "\n",
      "Epoch 16/39\n",
      "----------\n",
      "\n",
      "Epoch 17/39\n",
      "----------\n",
      "\n",
      "Epoch 18/39\n",
      "----------\n",
      "\n",
      "Epoch 19/39\n",
      "----------\n",
      "\n",
      "Epoch 20/39\n",
      "----------\n",
      "\n",
      "Epoch 21/39\n",
      "----------\n",
      "\n",
      "Epoch 22/39\n",
      "----------\n",
      "\n",
      "Epoch 23/39\n",
      "----------\n",
      "\n",
      "Epoch 24/39\n",
      "----------\n",
      "\n",
      "Epoch 25/39\n",
      "----------\n",
      "\n",
      "Epoch 26/39\n",
      "----------\n",
      "\n",
      "Epoch 27/39\n",
      "----------\n",
      "\n",
      "Epoch 28/39\n",
      "----------\n",
      "\n",
      "Epoch 29/39\n",
      "----------\n",
      "\n",
      "Epoch 30/39\n",
      "----------\n",
      "\n",
      "Epoch 31/39\n",
      "----------\n",
      "\n",
      "Epoch 32/39\n",
      "----------\n",
      "\n",
      "Epoch 33/39\n",
      "----------\n",
      "\n",
      "Epoch 34/39\n",
      "----------\n",
      "\n",
      "Epoch 35/39\n",
      "----------\n",
      "\n",
      "Epoch 36/39\n",
      "----------\n",
      "\n",
      "Epoch 37/39\n",
      "----------\n",
      "\n",
      "Epoch 38/39\n",
      "----------\n",
      "\n",
      "Epoch 39/39\n",
      "----------\n",
      "\n",
      "Training complete in 167m 50s\n",
      "Best val Acc: 0.579011\n"
     ]
    }
   ],
   "source": [
    "alexnet_model = transfer_learning().to(device)\n",
    "\n",
    "\n",
    "# Criterion to evaluate the loss using cross entropy\n",
    "criterion = nn.CrossEntropyLoss()\n",
    "# Use Stochastic Gradient Descent as the optimizer with learning rate of 0.001 and momentum of 0.9\n",
    "optimizer_ft = optim.SGD(alexnet_model.parameters(), lr = 0.001, momentum = 0.9)\n",
    "# Decay LR by a factor of 0.1 every 7 epochs to help prevent the model from overfitting the training data\n",
    "exp_lr_scheduler = lr_scheduler.StepLR(optimizer_ft, step_size = 7, gamma = 0.1)\n",
    "\n",
    "\n",
    "alexnet_model = train_model(alexnet_model, criterion, optimizer_ft, exp_lr_scheduler, num_epochs = 40)"
   ]
  },
  {
   "cell_type": "code",
   "execution_count": 14,
   "metadata": {},
   "outputs": [
    {
     "name": "stderr",
     "output_type": "stream",
     "text": [
      "C:\\Users\\saraa\\AppData\\Local\\Temp\\ipykernel_16424\\2285320098.py:18: UserWarning: Implicit dimension choice for softmax has been deprecated. Change the call to include dim=X as an argument.\n",
      "  standardized_probabilities = F.softmax(max_prob)        # Apply softmax to the output\n"
     ]
    },
    {
     "name": "stdout",
     "output_type": "stream",
     "text": [
      "Estimated recall: 0.9733333333333334\n",
      "Estimated f1_score: 0.8088642659279779\n",
      "Estimated Precision: 0.6919431279620853\n",
      "Estimated Specificity: 0.6388888888888888\n",
      "Estimated Informedness: 0.6122222222222222\n",
      "Estimated Accuracy: 0.7909090909090909\n"
     ]
    },
    {
     "data": {
      "image/png": "[encoded data removed]",
      "text/plain": [
       "<Figure size 640x480 with 1 Axes>"
      ]
     },
     "metadata": {},
     "output_type": "display_data"
    }
   ],
   "source": [
    "test_model(alexnet_model)"
   ]
  }
 ],
 "metadata": {
  "kernelspec": {
   "display_name": "Python 3",
   "language": "python",
   "name": "python3"
  },
  "language_info": {
   "codemirror_mode": {
    "name": "ipython",
    "version": 3
   },
   "file_extension": ".py",
   "mimetype": "text/x-python",
   "name": "python",
   "nbconvert_exporter": "python",
   "pygments_lexer": "ipython3",
   "version": "3.10.9"
  }
 },
 "nbformat": 4,
 "nbformat_minor": 2
}
